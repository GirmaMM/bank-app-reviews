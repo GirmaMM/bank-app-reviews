{
 "cells": [
  {
   "cell_type": "markdown",
   "id": "8ed1dcd1",
   "metadata": {},
   "source": [
    "#### Load Path, Libraries, and Modules"
   ]
  },
  {
   "cell_type": "code",
   "execution_count": 1,
   "id": "202b2f6f",
   "metadata": {},
   "outputs": [],
   "source": [
    "import os\n",
    "import sys\n",
    "import pandas as pd\n",
    "\n",
    "# Define the correct path to scr\n",
    "module_path = os.path.abspath(os.path.join(\"..\", \"scripts\")) \n",
    "\n",
    "# Add path only if it exists\n",
    "if module_path not in sys.path and os.path.exists(module_path):\n",
    "    sys.path.append(module_path)\n",
    "\n",
    "# Now import the scraper module\n",
    "from scraper import AppReviewsScraper"
   ]
  },
  {
   "cell_type": "markdown",
   "id": "e85a5ab1",
   "metadata": {},
   "source": [
    "### Scraping and Storing Dataset"
   ]
  },
  {
   "cell_type": "code",
   "execution_count": 2,
   "id": "ead4c0e2",
   "metadata": {},
   "outputs": [
    {
     "name": "stdout",
     "output_type": "stream",
     "text": [
      "                               reviewId       userName  \\\n",
      "0  be2cb2ac-bbe0-4175-81c4-9f6c86afdaaa  A Google user   \n",
      "1  8efd71e9-59cd-41ce-8c5c-12052dee9ad0  A Google user   \n",
      "2  b12d0383-9b27-4e49-a94d-277a43b15800  A Google user   \n",
      "3  dd9f9e37-177a-46df-b877-d0edaa9aed29  A Google user   \n",
      "4  8e34703c-203c-4180-8b32-bfd0b3f0c871  A Google user   \n",
      "\n",
      "                                           userImage  \\\n",
      "0  https://play-lh.googleusercontent.com/EGemoI2N...   \n",
      "1  https://play-lh.googleusercontent.com/EGemoI2N...   \n",
      "2  https://play-lh.googleusercontent.com/EGemoI2N...   \n",
      "3  https://play-lh.googleusercontent.com/EGemoI2N...   \n",
      "4  https://play-lh.googleusercontent.com/EGemoI2N...   \n",
      "\n",
      "                                             content  score  thumbsUpCount  \\\n",
      "0  \"Why don’t your ATMs support account-to-accoun...      4              0   \n",
      "1                        what is this app problem???      1              0   \n",
      "2       the app is proactive and a good connections.      5              0   \n",
      "3    I cannot send to cbebirr app. through this app.      3              0   \n",
      "4                                               good      4              0   \n",
      "\n",
      "  reviewCreatedVersion                  at replyContent repliedAt appVersion  \\\n",
      "0                 None 2025-06-06 09:54:11         None       NaT       None   \n",
      "1                5.1.0 2025-06-05 22:16:56         None       NaT      5.1.0   \n",
      "2                5.1.0 2025-06-05 15:55:10         None       NaT      5.1.0   \n",
      "3                 None 2025-06-05 11:12:49         None       NaT       None   \n",
      "4                 None 2025-06-05 10:21:59         None       NaT       None   \n",
      "\n",
      "   App  \n",
      "0  CBE  \n",
      "1  CBE  \n",
      "2  CBE  \n",
      "3  CBE  \n",
      "4  CBE  \n"
     ]
    },
    {
     "name": "stderr",
     "output_type": "stream",
     "text": [
      "c:\\Users\\girma\\OneDrive\\Desktop\\10 Academy\\week-2\\bank-app-reviews\\scripts\\scraper.py:36: FutureWarning: The behavior of DataFrame concatenation with empty or all-NA entries is deprecated. In a future version, this will no longer exclude empty or all-NA columns when determining the result dtypes. To retain the old behavior, exclude the relevant entries before the concat operation.\n",
      "  return pd.concat(dataframes, ignore_index=True)\n"
     ]
    }
   ],
   "source": [
    "# Define app IDs\n",
    "app_ids = {\n",
    "    \"CBE\": \"com.combanketh.mobilebanking\",\n",
    "    \"Dashin\": \"com.dashen.dashensuperapp\",\n",
    "    \"Abyissinia\": \"com.boa.boaMobileBanking\"\n",
    "    }\n",
    "\n",
    "# Instantiate and use the scraper\n",
    "scraper = AppReviewsScraper(app_ids)\n",
    "df_combined = scraper.get_reviews_dataframe()\n",
    "\n",
    "# Display the resulting DataFrame\n",
    "print(df_combined.head())"
   ]
  },
  {
   "cell_type": "code",
   "execution_count": 3,
   "id": "8cca54af",
   "metadata": {},
   "outputs": [],
   "source": [
    "#save the dataset\n",
    "df_combined.to_csv(\"../data/raw_reviews.csv\", index=False)"
   ]
  },
  {
   "cell_type": "markdown",
   "id": "c4b9357f",
   "metadata": {},
   "source": [
    "### Preprocessing - Data Cleaning"
   ]
  },
  {
   "cell_type": "code",
   "execution_count": 4,
   "id": "b12697a8",
   "metadata": {},
   "outputs": [
    {
     "name": "stdout",
     "output_type": "stream",
     "text": [
      "<class 'pandas.core.frame.DataFrame'>\n",
      "RangeIndex: 8991 entries, 0 to 8990\n",
      "Data columns (total 12 columns):\n",
      " #   Column                Non-Null Count  Dtype         \n",
      "---  ------                --------------  -----         \n",
      " 0   reviewId              8991 non-null   object        \n",
      " 1   userName              8991 non-null   object        \n",
      " 2   userImage             8991 non-null   object        \n",
      " 3   content               8984 non-null   object        \n",
      " 4   score                 8991 non-null   int64         \n",
      " 5   thumbsUpCount         8991 non-null   int64         \n",
      " 6   reviewCreatedVersion  7263 non-null   object        \n",
      " 7   at                    8991 non-null   datetime64[ns]\n",
      " 8   replyContent          70 non-null     object        \n",
      " 9   repliedAt             70 non-null     datetime64[ns]\n",
      " 10  appVersion            7263 non-null   object        \n",
      " 11  App                   8991 non-null   object        \n",
      "dtypes: datetime64[ns](2), int64(2), object(8)\n",
      "memory usage: 843.0+ KB\n"
     ]
    }
   ],
   "source": [
    "# consise summary of the dataframe\n",
    "df_combined.info()"
   ]
  },
  {
   "cell_type": "code",
   "execution_count": 5,
   "id": "6dbea990",
   "metadata": {},
   "outputs": [
    {
     "data": {
      "text/plain": [
       "Index(['reviewId', 'userName', 'userImage', 'review', 'rating',\n",
       "       'thumbsUpCount', 'reviewCreatedVersion', 'date', 'replyContent',\n",
       "       'repliedAt', 'appVersion', 'bank', 'source'],\n",
       "      dtype='object')"
      ]
     },
     "execution_count": 5,
     "metadata": {},
     "output_type": "execute_result"
    }
   ],
   "source": [
    "# add source of the dataset column \n",
    "df_combined[\"source\"] = \"Google Play\"\n",
    "\n",
    "# rename desired columns to appropriate names.\n",
    "df_combined = df_combined.rename(columns={    \n",
    "    \"content\": \"review\",\n",
    "    \"score\": \"rating\",\n",
    "    \"at\": \"date\",\n",
    "    \"App\": \"bank\",\n",
    "})\n",
    "\n",
    "# Ensure the dataset has these columns\n",
    "df_combined.columns"
   ]
  },
  {
   "cell_type": "code",
   "execution_count": 6,
   "id": "190702d4",
   "metadata": {},
   "outputs": [],
   "source": [
    "# Remove duplicates\n",
    "df_cleaned = df_combined.drop_duplicates()"
   ]
  },
  {
   "cell_type": "code",
   "execution_count": 7,
   "id": "dc3621e1",
   "metadata": {},
   "outputs": [
    {
     "data": {
      "text/plain": [
       "reviewId                   0\n",
       "userName                   0\n",
       "userImage                  0\n",
       "review                     7\n",
       "rating                     0\n",
       "thumbsUpCount              0\n",
       "reviewCreatedVersion    1728\n",
       "date                       0\n",
       "replyContent            8921\n",
       "repliedAt               8921\n",
       "appVersion              1728\n",
       "bank                       0\n",
       "source                     0\n",
       "dtype: int64"
      ]
     },
     "execution_count": 7,
     "metadata": {},
     "output_type": "execute_result"
    }
   ],
   "source": [
    "#check missing values\n",
    "df_cleaned.isnull().sum()"
   ]
  },
  {
   "cell_type": "markdown",
   "id": "6b613365",
   "metadata": {},
   "source": [
    "`The review contains seven missing entries, and dropping these rows is reasonable since the content is already absent.`"
   ]
  },
  {
   "cell_type": "code",
   "execution_count": 8,
   "id": "369d9319",
   "metadata": {},
   "outputs": [
    {
     "name": "stdout",
     "output_type": "stream",
     "text": [
      "Missing Reviews Before Cleanup: 7\n"
     ]
    }
   ],
   "source": [
    "print(f\"Missing Reviews Before Cleanup: {df_cleaned['review'].isnull().sum()}\")"
   ]
  },
  {
   "cell_type": "code",
   "execution_count": 9,
   "id": "b724b541",
   "metadata": {},
   "outputs": [],
   "source": [
    "# drop missing values\n",
    "df_cleaned.dropna(subset=['review'], inplace=True)"
   ]
  },
  {
   "cell_type": "code",
   "execution_count": 10,
   "id": "ffd31971",
   "metadata": {},
   "outputs": [
    {
     "name": "stdout",
     "output_type": "stream",
     "text": [
      "Missing Reviews After Cleanup: 0\n"
     ]
    }
   ],
   "source": [
    "print(f\"Missing Reviews After Cleanup: {df_cleaned['review'].isnull().sum()}\")"
   ]
  },
  {
   "cell_type": "code",
   "execution_count": 14,
   "id": "9abadb74",
   "metadata": {},
   "outputs": [],
   "source": [
    "# Normalize Dates (YYYY-MM-DD\n",
    "df_cleaned[\"date\"] = pd.to_datetime(df_cleaned[\"date\"]).dt.strftime(\"%Y-%m-%d\")"
   ]
  },
  {
   "cell_type": "code",
   "execution_count": 15,
   "id": "ecc5c9ad",
   "metadata": {},
   "outputs": [],
   "source": [
    "# choose the desired columns\n",
    "df_cleaned = df_cleaned[[\"bank\", \"review\", \"rating\", \"date\", \"source\"]]"
   ]
  },
  {
   "cell_type": "code",
   "execution_count": 16,
   "id": "87acd764",
   "metadata": {},
   "outputs": [
    {
     "name": "stdout",
     "output_type": "stream",
     "text": [
      "bank      object\n",
      "review    object\n",
      "rating     int64\n",
      "date      object\n",
      "source    object\n",
      "dtype: object\n"
     ]
    }
   ],
   "source": [
    "#check data types after cleaning\n",
    "print(df_cleaned.dtypes)"
   ]
  },
  {
   "cell_type": "code",
   "execution_count": 23,
   "id": "524d93df",
   "metadata": {},
   "outputs": [
    {
     "name": "stdout",
     "output_type": "stream",
     "text": [
      "Found 0 invalid date entries!\n"
     ]
    },
    {
     "data": {
      "text/plain": [
       "bank              object\n",
       "review            object\n",
       "rating             int64\n",
       "date      datetime64[ns]\n",
       "source            object\n",
       "dtype: object"
      ]
     },
     "execution_count": 23,
     "metadata": {},
     "output_type": "execute_result"
    }
   ],
   "source": [
    "# Convert the \"date\" column to proper datetime format\n",
    "df_cleaned[\"date\"] = pd.to_datetime(df_cleaned[\"date\"], errors=\"coerce\")\n",
    "\n",
    "# Check for any rows where conversion failed\n",
    "invalid_dates = df_cleaned[df_cleaned[\"date\"].isna()]\n",
    "print(f\"Found {len(invalid_dates)} invalid date entries!\")\n",
    "\n",
    "# Drop rows with invalid dates\n",
    "df_cleaned.dropna(subset=[\"date\"], inplace=True)\n",
    "\n",
    "\n",
    "# Ensure the data types\n",
    "df_cleaned.dtypes"
   ]
  },
  {
   "cell_type": "code",
   "execution_count": 24,
   "id": "70d333ee",
   "metadata": {},
   "outputs": [],
   "source": [
    "# save cleaned data as csv\n",
    "df_cleaned.to_csv(\"../data/cleaned_reviews.csv\", index=False)"
   ]
  }
 ],
 "metadata": {
  "kernelspec": {
   "display_name": "app_reviews",
   "language": "python",
   "name": "python3"
  },
  "language_info": {
   "codemirror_mode": {
    "name": "ipython",
    "version": 3
   },
   "file_extension": ".py",
   "mimetype": "text/x-python",
   "name": "python",
   "nbconvert_exporter": "python",
   "pygments_lexer": "ipython3",
   "version": "3.12.4"
  }
 },
 "nbformat": 4,
 "nbformat_minor": 5
}
